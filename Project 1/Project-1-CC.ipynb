{
 "cells": [
  {
   "cell_type": "markdown",
   "metadata": {},
   "source": [
    "<img src=\"http://imgur.com/1ZcRyrc.png\" style=\"float: left; margin: 20px; height: 55px\">\n",
    "\n",
    "# Project 1: Python Coding Exercises\n",
    "\n",
    "_Authors: Joseph Nelson (DC) _\n",
    "\n",
    "---"
   ]
  },
  {
   "cell_type": "markdown",
   "metadata": {},
   "source": [
    "The following code challenges are drawn from common exercises used in technical interviews.\n",
    "\n",
    "Please note that there may be several ways to approach each challenge. If you get stuck, try mapping out your approach in pseudocode first. Finally, while solutions to problems like these may be found online, remember that if you copy/paste code that you can't explain, you'll be missing out on the point of the project. The only way to truly learn a new skill is through practice, trial, and error - we can only help you improve by understanding where you are having trouble."
   ]
  },
  {
   "cell_type": "markdown",
   "metadata": {},
   "source": [
    "### Challenge 1: Largest Palindrome\n",
    "A palindromic number reads the same both ways. For example, 1234321 is a palindrome. The largest palindrome made from the product of two two-digit numbers is 9009 = 91 × 99. Find the largest palindrome made from the product of two three-digit numbers. Afterward, write a brief explanation walking through your code's logic in markdown."
   ]
  },
  {
   "cell_type": "markdown",
   "metadata": {},
   "source": [
    "1. A \"reverse_integer\" function is defined to be able to check if a number is a palindrome\n",
    "2. This function turns an integer into a list.\n",
    "3. As a list, it is reversed and joined together as an integer.\n",
    "4. This is compared to the original integer which will be used to identify a palindrome.\n",
    "5. Two \"for\" loops are then created to find multiples of 3-digit numbers.\n",
    "6. In the second \"for\" loop, an \"if\" statement using the \"reverse_integer\" function is used.\n",
    "7. The argument in the function will be the multiples of 3-digit numbers.\n",
    "8. The function will capture will \"True\" values to the function and input the multiple into a pre-defined empty list, \"palindrome\".\n",
    "9. When the \"for\"loops have iterated through all 3-digit multiples, the largest value in the \"palindrome\" list is printed."
   ]
  },
  {
   "cell_type": "code",
   "execution_count": 85,
   "metadata": {},
   "outputs": [
    {
     "name": "stdout",
     "output_type": "stream",
     "text": [
      "The largest Palindrome is: 906609\n"
     ]
    }
   ],
   "source": [
    "palindrome = []\n",
    "\n",
    "#this will turn int into a list, reverse it, and turn it back into an int to compare if it is a palindrome\n",
    "def reverse_integer(num):\n",
    "    #turn integer into a list\n",
    "    num_to_string = str(num)\n",
    "    string_to_list = list(num_to_string)\n",
    "    #reverses and turns list back into an integer\n",
    "    string_to_list.reverse()\n",
    "    list_to_int = int(\"\".join(string_to_list))\n",
    "    #is num and list_to_int the same?\n",
    "    return(num == list_to_int)\n",
    "\n",
    "#print(reverse_integer(12321))\n",
    "\n",
    "for number in range(100, 1000):\n",
    "    for n in range (100, number):\n",
    "        multiply = n * number\n",
    "        if reverse_integer(multiply) == True:\n",
    "            palindrome.append(multiply)\n",
    "\n",
    "print (\"The largest Palindrome is: \" + str(max(palindrome)))\n",
    "            "
   ]
  },
  {
   "cell_type": "markdown",
   "metadata": {},
   "source": [
    "### Challenge 2: Summation of Primes\n",
    "The sum of the primes below 10 is 2 + 3 + 5 + 7 = 17. Find the sum of all the primes below 2,000. Afterward, write a brief explanation walking through your code's logic in markdown."
   ]
  },
  {
   "cell_type": "markdown",
   "metadata": {},
   "source": [
    "1. A variable \"count\" is first initialized to \"0\". This variable will be used to add each prime number that is found.\n",
    "2. \"for\" loop 1: The first \"for\" loop will iterate through the list of numbers from 2 to 2,000. This is set as the maximum limit for the code. The loop starts from the first prime number (2).\n",
    "3. \"for\" loop 2: This loop is used to find prime numbers within the range of the main loop by checking if a number can be divided by another number smaller than itself.\n",
    "4. In the second \"for\" loop, an \"if\" statement is used to check if a number can be divided by a smaller number.\n",
    "5. If it can, the loop breaks and returns back to the first \"for\" loop.\n",
    "6. If a number cannot be divided by a smaller number, the \"else\" statement is actived. \n",
    "7. This adds the current \"number\" to the count as a prime number."
   ]
  },
  {
   "cell_type": "code",
   "execution_count": 92,
   "metadata": {},
   "outputs": [
    {
     "name": "stdout",
     "output_type": "stream",
     "text": [
      "277050\n"
     ]
    }
   ],
   "source": [
    "count = 0\n",
    "\n",
    "for number in range (2, 2000):\n",
    "    #print (\"number is \" + str(number))\n",
    "    for num in range(2, number):\n",
    "        #print (\"num is \" + str(num))\n",
    "        if number % num == 0:\n",
    "            #print (str(number) + \" / \" + str(num))\n",
    "            break\n",
    "    else:\n",
    "        count = count + number\n",
    "        #print (\"Prime number is \" + str(number) + \" and count is \" + str(count))\n",
    "        \n",
    "print (count)    "
   ]
  },
  {
   "cell_type": "markdown",
   "metadata": {},
   "source": [
    "### Challenge 3: Multiples of 3 and 5\n",
    "If we list all of the natural numbers below 10 that are multiples of 3 or 5, we get 3, 5, 6, and 9. The sum of these multiples is 23. Find the sum of all the multiples of 3 and 5 below 1,000. Afterward, write a brief explanation walking through your code's logic in markdown."
   ]
  },
  {
   "cell_type": "markdown",
   "metadata": {
    "collapsed": true
   },
   "source": [
    "1. Initialize 1 empty list to hold the multiples of 3. This is to allow the code to sum all mulitiples of 3 for the final answer.\n",
    "2. A \"for\" loop is created to loop through the range of 1 to 1,000 as required.\n",
    "3. To find multiples of 3, we use the code \"number % 3 == 0\".\n",
    "4. Whenever a multiple of 3 is found, we append this number to the initialized empty list.\n",
    "5. After the \"for\" loop is completed, we sum all numbers in the list to find the answer for multiples of 3.\n",
    "6. Steps 1 to 5 is repeated to find multiples of 5.\n",
    "7. An additional line is added to sum the multiples of 3 and multiples of 5."
   ]
  },
  {
   "cell_type": "code",
   "execution_count": 226,
   "metadata": {},
   "outputs": [
    {
     "name": "stdout",
     "output_type": "stream",
     "text": [
      "Total sum of multiples of 3: 166833\n",
      "Total sum of multiples of 5: 99500\n",
      "Total sum of multiples of 3 and 5: 266333\n"
     ]
    }
   ],
   "source": [
    "#multiples of 3\n",
    "multiples_3 = []\n",
    "for number in range(1, 1000):\n",
    "    if number % 3 == 0:\n",
    "        multiples_3.append(number)\n",
    "sum_3 = sum(multiples_3)\n",
    "print(\"Total sum of multiples of 3: \" + str(sum_3))\n",
    "        \n",
    "#multiples of 5\n",
    "multiples_5 = []\n",
    "for number in range(1, 1000):\n",
    "    if number % 5 == 0:\n",
    "        multiples_5.append(number)\n",
    "sum_5 = sum(multiples_5)\n",
    "print(\"Total sum of multiples of 5: \" + str(sum_5))\n",
    "\n",
    "total_sum = sum_3 + sum_5\n",
    "print(\"Total sum of multiples of 3 and 5: \" + str(total_sum))"
   ]
  },
  {
   "cell_type": "markdown",
   "metadata": {},
   "source": [
    "### Challenge 4: String Compressor\n",
    "Implement a method to perform basic string compression using the counts of repeated characters. (This is called run-length encoding.) For example, the string \"aabcccccaaa\" would become a2b1c5a3. If the “compressed” string would not become smaller than the original string, your method should return the original string. You can assume the string has only uppercase and lowercase letters (a–z). Specify whether your solution is case sensitive or case insensitive and what you would need to change to make it the other. Afterward, write a brief explanation walking through your code's logic in markdown."
   ]
  },
  {
   "cell_type": "markdown",
   "metadata": {
    "collapsed": true
   },
   "source": [
    "1. Initialize an empty string (answer) to input the letter and a count.\n",
    "2. Count the length of the string. This is to allow the \"for\" loop to loop through the length of the input string.\n",
    "3. Within the \"for\" loop, the code compares the current letter to the next letter using the string index. (string[letter] == string[letter+1]).\n",
    "4. If the 2 letter are the same, the count is increased by 1.\n",
    "5. Step 4 continues until \"index != index+1\". When this happens, the loop will move to the \"else\" statement. \n",
    "6. The else statement adds the letter (\"string[letter]\") and count to the empty string.\n",
    "7. The loop continues until the loop compares the second last letter to the last letter of the string.\n",
    "8. If \"second last letter\" == \"last letter\", the count increases and will exit the \"for\" loop.\n",
    "9. Once the program has exited the for loop, the function will add the last letter of the string and the count to the answer.\n",
    "10. Answer is printed.\n",
    "11. The code is not case insensitive and will turn all letters into lower case and print out answers only in lower case.\n",
    "12. To make the code case sensitive, we can stop using the \"if\"-\"else\" statement."
   ]
  },
  {
   "cell_type": "code",
   "execution_count": 94,
   "metadata": {},
   "outputs": [
    {
     "name": "stdout",
     "output_type": "stream",
     "text": [
      "AABccCCAAA\n",
      "length of string = 10\n",
      "a2b1c4a3 as string is too long.\n"
     ]
    }
   ],
   "source": [
    "def string_compression(string):\n",
    "    answer = \"\"\n",
    "    count = 1\n",
    "    length = len(string)\n",
    "    print(string)\n",
    "    print(\"length of string = \" + str(length))\n",
    "    #make it not case sensitive -> change all to uppercase\n",
    "    string = string.upper()\n",
    "    #print(string)\n",
    "\n",
    "    for letter in range(0,length-1):       \n",
    "        if string[letter] == string[letter+1]:\n",
    "            #print (str(string[letter]) + str(count))\n",
    "            count = count + 1\n",
    "            \n",
    "        else:\n",
    "            answer = answer + str(string[letter]) + str(count)\n",
    "            count = 1\n",
    "\n",
    "    answer = answer + str(string[letter+1]) + str(count)\n",
    "    answer = answer.lower()\n",
    "    \n",
    "    #check if string_compression is smaller than actual string?\n",
    "    if len(answer) > len(string):\n",
    "        print(str(string) + \" as string is shorter.\")\n",
    "    else:\n",
    "        print(str(answer) + \" as string is too long.\")\n",
    "    \n",
    "    \n",
    "string_compression(\"AABccCCAAA\")\n"
   ]
  },
  {
   "cell_type": "markdown",
   "metadata": {},
   "source": [
    "### *BONUS* Challenge: FizzBuzz\n",
    "Write a program that prints all of the numbers from 1 to 100. For multiples of 3, instead of the number, print \"Fizz;\" for multiples of 5, print \"Buzz.\" For numbers that are multiples of both 3 and 5, print \"FizzBuzz.\" Afterward, write a brief explanation walking through your code's logic in markdown."
   ]
  },
  {
   "cell_type": "markdown",
   "metadata": {},
   "source": [
    "1. A loop is created to loop through numbers from 1 to 101 (to be able to reach 100).\n",
    "2. Use \"if\" and \"and\" to find the numbers divisible by 3 and/or 5.\n",
    "3. Once the numbers are found, to print \"Fizz\", \"Buzz\" or \"FizzBuzz\" instead of the number."
   ]
  },
  {
   "cell_type": "code",
   "execution_count": 73,
   "metadata": {},
   "outputs": [
    {
     "name": "stdout",
     "output_type": "stream",
     "text": [
      "1\n",
      "2\n",
      "Fizz\n",
      "4\n",
      "Buzz\n",
      "Fizz\n",
      "7\n",
      "8\n",
      "Fizz\n",
      "Buzz\n",
      "11\n",
      "Fizz\n",
      "13\n",
      "14\n",
      "FizzBuzz\n",
      "16\n",
      "17\n",
      "Fizz\n",
      "19\n",
      "Buzz\n",
      "Fizz\n",
      "22\n",
      "23\n",
      "Fizz\n",
      "Buzz\n",
      "26\n",
      "Fizz\n",
      "28\n",
      "29\n",
      "FizzBuzz\n",
      "31\n",
      "32\n",
      "Fizz\n",
      "34\n",
      "Buzz\n",
      "Fizz\n",
      "37\n",
      "38\n",
      "Fizz\n",
      "Buzz\n",
      "41\n",
      "Fizz\n",
      "43\n",
      "44\n",
      "FizzBuzz\n",
      "46\n",
      "47\n",
      "Fizz\n",
      "49\n",
      "Buzz\n",
      "Fizz\n",
      "52\n",
      "53\n",
      "Fizz\n",
      "Buzz\n",
      "56\n",
      "Fizz\n",
      "58\n",
      "59\n",
      "FizzBuzz\n",
      "61\n",
      "62\n",
      "Fizz\n",
      "64\n",
      "Buzz\n",
      "Fizz\n",
      "67\n",
      "68\n",
      "Fizz\n",
      "Buzz\n",
      "71\n",
      "Fizz\n",
      "73\n",
      "74\n",
      "FizzBuzz\n",
      "76\n",
      "77\n",
      "Fizz\n",
      "79\n",
      "Buzz\n",
      "Fizz\n",
      "82\n",
      "83\n",
      "Fizz\n",
      "Buzz\n",
      "86\n",
      "Fizz\n",
      "88\n",
      "89\n",
      "FizzBuzz\n",
      "91\n",
      "92\n",
      "Fizz\n",
      "94\n",
      "Buzz\n",
      "Fizz\n",
      "97\n",
      "98\n",
      "Fizz\n",
      "Buzz\n"
     ]
    }
   ],
   "source": [
    "for number in range(1, 101):\n",
    "    if number % 3 != 0 and number % 5 != 0:\n",
    "        print(number)\n",
    "    elif number % 3 == 0 and number % 5 ==0:\n",
    "        print(\"FizzBuzz\")\n",
    "    elif number % 3 == 0:\n",
    "        print(\"Fizz\")\n",
    "    elif number % 5 == 0:\n",
    "        print(\"Buzz\")\n",
    "    else:\n",
    "        break\n"
   ]
  }
 ],
 "metadata": {
  "anaconda-cloud": {},
  "kernelspec": {
   "display_name": "Python 3",
   "language": "python",
   "name": "python3"
  },
  "language_info": {
   "codemirror_mode": {
    "name": "ipython",
    "version": 3
   },
   "file_extension": ".py",
   "mimetype": "text/x-python",
   "name": "python",
   "nbconvert_exporter": "python",
   "pygments_lexer": "ipython3",
   "version": "3.6.5"
  }
 },
 "nbformat": 4,
 "nbformat_minor": 2
}
